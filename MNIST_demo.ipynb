{
 "cells": [
  {
   "cell_type": "markdown",
   "metadata": {},
   "source": [
    "# Interactive Tensorflow MNIST demo #"
   ]
  },
  {
   "cell_type": "markdown",
   "metadata": {},
   "source": [
    "In this tutorial, we will show you how to use Interactive Tensorflow to change the hyper-parameters of a Neural Network while it is training on the MNIST dataset. You can use it as a reference for the integration of Interactive Tensorflow into your own project."
   ]
  },
  {
   "cell_type": "markdown",
   "metadata": {},
   "source": [
    "![learning_rate_plot](images/learning_rate_plot.png)"
   ]
  },
  {
   "cell_type": "markdown",
   "metadata": {},
   "source": [
    "**Import** Tensorflow and the Interactive Tensorflow server."
   ]
  },
  {
   "cell_type": "code",
   "execution_count": null,
   "metadata": {
    "collapsed": true
   },
   "outputs": [],
   "source": [
    "import os\n",
    "import tensorflow as tf\n",
    "from tensorflow.examples.tutorials.mnist import input_data\n",
    "\n",
    "import server"
   ]
  },
  {
   "cell_type": "markdown",
   "metadata": {},
   "source": [
    "Create **placeholders** for the Tensors we want to change."
   ]
  },
  {
   "cell_type": "code",
   "execution_count": null,
   "metadata": {
    "collapsed": true
   },
   "outputs": [],
   "source": [
    "# create tensors for parameters\n",
    "learning_rate = tf.get_variable(\"learning_rate\", initializer=tf.constant(0.1, dtype=tf.float32))\n",
    "dropout_prob = tf.get_variable(\"dropout_prob\", initializer=tf.constant(0.9, dtype=tf.float32))\n",
    "is_training = tf.placeholder(tf.bool, [])"
   ]
  },
  {
   "cell_type": "markdown",
   "metadata": {},
   "source": [
    "[MNIST](http://yann.lecun.com/exdb/mnist/) is a dataset of handwritten digits that is often used as the \"Hello World\" of Machine Learning. The task is to classify which digit (1 to 9) appears in each image. See examples of four digits below."
   ]
  },
  {
   "cell_type": "markdown",
   "metadata": {},
   "source": [
    "![abc](images/MNIST.png)"
   ]
  },
  {
   "cell_type": "markdown",
   "metadata": {},
   "source": [
    "Set some parameters and **import MNIST**."
   ]
  },
  {
   "cell_type": "code",
   "execution_count": null,
   "metadata": {},
   "outputs": [],
   "source": [
    "# set some parameters\n",
    "num_iterations = 10000000\n",
    "mnist_data_path = \"demo/data/mnist\"\n",
    "summary_path = \"demo/summary\"\n",
    "\n",
    "# import MNIST\n",
    "mnist = input_data.read_data_sets(mnist_data_path, one_hot=True)"
   ]
  },
  {
   "cell_type": "markdown",
   "metadata": {},
   "source": [
    "Define a graph of a simple **Convolutional Neural Network**. The ConvNet is regularized with [Dropout](https://www.tensorflow.org/api_docs/python/tf/layers/dropout) which we will control together with the learning rate using Interactive Tensorflow."
   ]
  },
  {
   "cell_type": "code",
   "execution_count": null,
   "metadata": {
    "collapsed": true
   },
   "outputs": [],
   "source": [
    "# create the model (a simple convolutional network)\n",
    "x = tf.placeholder(tf.float32, (None, 784))\n",
    "y = tf.placeholder(tf.float32, (None, 10))\n",
    "\n",
    "x_reshaped = tf.reshape(x, (-1, 28, 28, 1))\n",
    "\n",
    "conv1 = tf.layers.conv2d(x_reshaped, filters=32, kernel_size=(3, 3), strides=(1, 1), activation=tf.nn.relu)\n",
    "pool1 = tf.layers.max_pooling2d(conv1, pool_size=(2, 2), strides=(2, 2))\n",
    "\n",
    "conv2 = tf.layers.conv2d(pool1, filters=64, kernel_size=(3, 3), strides=(1, 1), activation=tf.nn.relu)\n",
    "pool2 = tf.layers.max_pooling2d(conv2, pool_size=(2, 2), strides=(2, 2))\n",
    "\n",
    "conv3 = tf.layers.conv2d(pool2, filters=128, kernel_size=(3, 3), strides=(1, 1), activation=tf.nn.relu)\n",
    "pool4 = tf.reduce_mean(conv3, reduction_indices=(1, 2))\n",
    "\n",
    "dropout = tf.layers.dropout(pool4, rate=dropout_prob, training=is_training)\n",
    "\n",
    "logits = tf.layers.dense(dropout, 10)\n",
    "\n",
    "cross_entropy = tf.reduce_mean(tf.nn.softmax_cross_entropy_with_logits(labels=y, logits=logits))\n",
    "train_step = tf.train.GradientDescentOptimizer(learning_rate).minimize(cross_entropy)\n",
    "\n",
    "correct_prediction = tf.equal(tf.argmax(logits, 1), tf.argmax(y, 1))\n",
    "accuracy = tf.reduce_mean(tf.cast(correct_prediction, tf.float32))"
   ]
  },
  {
   "cell_type": "markdown",
   "metadata": {},
   "source": [
    "Create summary ops for training and test accuracy as well as our hyper-parameters. We can visualize these summaries using [TensorBoard](https://www.tensorflow.org/get_started/summaries_and_tensorboard)."
   ]
  },
  {
   "cell_type": "code",
   "execution_count": null,
   "metadata": {
    "collapsed": true
   },
   "outputs": [],
   "source": [
    "# create summary ops\n",
    "train_summaries = tf.summary.merge([tf.summary.scalar(\"train_accuracy\", accuracy),\n",
    "                                    tf.summary.scalar(\"train_loss\", cross_entropy),\n",
    "                                    tf.summary.scalar(\"learning_rate\", learning_rate)])\n",
    "test_summaries = tf.summary.merge([tf.summary.scalar(\"test_accuracy\", accuracy)])\n",
    "\n",
    "# create a summary writer\n",
    "summary_writer = tf.summary.FileWriter(summary_path)"
   ]
  },
  {
   "cell_type": "markdown",
   "metadata": {},
   "source": [
    "Run the **training session**."
   ]
  },
  {
   "cell_type": "code",
   "execution_count": null,
   "metadata": {},
   "outputs": [],
   "source": [
    "# clean old tensorboard summaries\n",
    "files = os.listdir(summary_path)\n",
    "for file in files:\n",
    "  os.remove(os.path.join(summary_path, file))\n",
    "\n",
    "\n",
    "with tf.Session() as sess:\n",
    "  sess.run(tf.global_variables_initializer())\n",
    "\n",
    "  # start the server\n",
    "  s, thread = server.run_server([learning_rate, dropout_prob], sess)\n",
    "\n",
    "  # training\n",
    "  print(\"Training started.\")\n",
    "    \n",
    "  for step in range(num_iterations):\n",
    "    batch_xs, batch_ys = mnist.train.next_batch(64)\n",
    "\n",
    "    _, train_summary = sess.run([train_step, train_summaries], feed_dict={\n",
    "      x: batch_xs,\n",
    "      y: batch_ys,\n",
    "      is_training: True\n",
    "    })\n",
    "    summary_writer.add_summary(train_summary, global_step=step)\n",
    "\n",
    "    if step % 100 == 0 and step > 0:\n",
    "      # check events\n",
    "      s.check_events(step)\n",
    "\n",
    "      # test model\n",
    "      test_summary = sess.run(test_summaries, feed_dict={\n",
    "        x: mnist.test.images,\n",
    "        y: mnist.test.labels,\n",
    "        is_training: False\n",
    "      })\n",
    "      summary_writer.add_summary(test_summary, global_step=step)\n",
    "\n",
    "  # evaluation\n",
    "  accuracy = sess.run(accuracy, feed_dict={\n",
    "    x: mnist.test.images,\n",
    "    y: mnist.test.labels,\n",
    "    is_training: False\n",
    "  })\n",
    "\n",
    "print(\"\\nTrained for %d iterations\" % num_iterations)\n",
    "print(\"Accuracy: %.2f%%\" % (accuracy * 100))\n",
    "\n",
    "s.shutdown()\n",
    "thread.join(timeout=10)"
   ]
  },
  {
   "cell_type": "markdown",
   "metadata": {},
   "source": [
    "## Interactive Tensorflow Usage ##"
   ]
  },
  {
   "cell_type": "markdown",
   "metadata": {},
   "source": [
    "**Open two terminals** in the same folder as this Jupyter notebook. You will run Tensorboard from one of them and call interactive-tensorflow client from the other."
   ]
  },
  {
   "cell_type": "markdown",
   "metadata": {},
   "source": [
    "**Start TensorBoard** with the following command:"
   ]
  },
  {
   "cell_type": "markdown",
   "metadata": {
    "collapsed": true
   },
   "source": [
    "```tensorboard --logdir demo/summary/```"
   ]
  },
  {
   "cell_type": "markdown",
   "metadata": {},
   "source": [
    "You can use Interactive Tensorflow to alter the **learning rate**:"
   ]
  },
  {
   "cell_type": "markdown",
   "metadata": {
    "collapsed": true
   },
   "source": [
    "```python client.py -a -n learning_rate:0 -i 0 -v 0.001```"
   ]
  },
  {
   "cell_type": "markdown",
   "metadata": {},
   "source": [
    "Or change the **dropout probabilities**:"
   ]
  },
  {
   "cell_type": "markdown",
   "metadata": {
    "collapsed": true
   },
   "source": [
    "```python client.py -a -n dropout_prob:0 -i 0 -v 0.5```"
   ]
  },
  {
   "cell_type": "markdown",
   "metadata": {},
   "source": [
    "Note that if you schedule an event with iteration (**-i**) lower than the current global step, the event will be executed immediately (i.e. during the next check_events call)."
   ]
  },
  {
   "cell_type": "markdown",
   "metadata": {},
   "source": [
    "Finally, you can view all previously **scheduled events**:"
   ]
  },
  {
   "cell_type": "markdown",
   "metadata": {},
   "source": [
    "```python client.py -s```"
   ]
  },
  {
   "cell_type": "markdown",
   "metadata": {},
   "source": [
    "## Additional Documentation ##"
   ]
  },
  {
   "cell_type": "markdown",
   "metadata": {},
   "source": [
    "Check the [README](https://github.com/ondrejba/interactive-tensorflow/blob/master/README.md) of this project for additional documentation."
   ]
  }
 ],
 "metadata": {
  "kernelspec": {
   "display_name": "Python 3",
   "language": "python",
   "name": "python3"
  },
  "language_info": {
   "codemirror_mode": {
    "name": "ipython",
    "version": 3
   },
   "file_extension": ".py",
   "mimetype": "text/x-python",
   "name": "python",
   "nbconvert_exporter": "python",
   "pygments_lexer": "ipython3",
   "version": "3.6.2"
  }
 },
 "nbformat": 4,
 "nbformat_minor": 2
}
